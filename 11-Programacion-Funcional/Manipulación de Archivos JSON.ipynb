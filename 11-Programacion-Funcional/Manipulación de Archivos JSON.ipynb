{
 "cells": [
  {
   "cell_type": "code",
   "execution_count": 1,
   "id": "98d10855",
   "metadata": {},
   "outputs": [
    {
     "name": "stdout",
     "output_type": "stream",
     "text": [
      "Datos guardados correctamente en 'datos.json'\n",
      "--------------------\n",
      "Datos leídos desde 'datos.json':\n",
      "{'id': 1, 'nombre': 'Laptop', 'precio': 1200.5}\n",
      "{'id': 2, 'nombre': 'Teclado', 'precio': 75.99}\n",
      "{'id': 3, 'nombre': 'Mouse', 'precio': 25.0}\n",
      "{'id': 4, 'nombre': 'Monitor', 'precio': 300.0}\n"
     ]
    }
   ],
   "source": [
    "\"\"\" \n",
    "Escribe un programa que haga lo siguiente:\n",
    "\n",
    "    Cree una lista de diccionarios (representando, por ejemplo, productos con nombre y precio).\n",
    "    Guarde esta lista en un archivo llamado datos.json.\n",
    "    Lea los datos del archivo datos.json.\n",
    "    Imprima los datos leídos para verificar.\n",
    "\"\"\"\n",
    "\n",
    "import json # Módulo para trabajar con JSON\n",
    "\n",
    "# 1. Crear datos de ejemplo\n",
    "productos = [\n",
    "    {\"id\": 1, \"nombre\": \"Laptop\", \"precio\": 1200.50},\n",
    "    {\"id\": 2, \"nombre\": \"Teclado\", \"precio\": 75.99},\n",
    "    {\"id\": 3, \"nombre\": \"Mouse\", \"precio\": 25.00},\n",
    "    {\"id\": 4, \"nombre\": \"Monitor\", \"precio\": 300.00}\n",
    "]\n",
    "\n",
    "nombre_archivo = 'datos.json'\n",
    "\n",
    "# 2. Guardar la lista en un archivo JSON\n",
    "try:\n",
    "    with open(nombre_archivo, 'w', encoding='utf-8') as f:\n",
    "        # json.dump escribe la estructura de datos Python a un archivo JSON\n",
    "        # indent=4 hace que el archivo JSON sea legible para humanos\n",
    "        json.dump(productos, f, indent=4, ensure_ascii=False)\n",
    "    print(f\"Datos guardados correctamente en '{nombre_archivo}'\")\n",
    "except IOError as e:\n",
    "    print(f\"Error al escribir en el archivo '{nombre_archivo}': {e}\")\n",
    "except Exception as e:\n",
    "    print(f\"Ocurrió un error inesperado al guardar: {e}\")\n",
    "\n",
    "print(\"-\" * 20)\n",
    "\n",
    "# 3. Leer los datos del archivo JSON\n",
    "try:\n",
    "    with open(nombre_archivo, 'r', encoding='utf-8') as f:\n",
    "        # json.load lee la estructura de datos desde un archivo JSON\n",
    "        datos_leidos = json.load(f)\n",
    "\n",
    "    # 4. Imprimir los datos leídos\n",
    "    print(f\"Datos leídos desde '{nombre_archivo}':\")\n",
    "    if isinstance(datos_leidos, list): # Verificar que leímos una lista\n",
    "         for item in datos_leidos:\n",
    "             print(item)\n",
    "    else:\n",
    "        print(datos_leidos) # Imprimir tal cual si no es lista\n",
    "\n",
    "except FileNotFoundError:\n",
    "    print(f\"Error: El archivo '{nombre_archivo}' no fue encontrado para lectura.\")\n",
    "except json.JSONDecodeError:\n",
    "    print(f\"Error: El archivo '{nombre_archivo}' no contiene un JSON válido.\")\n",
    "except Exception as e:\n",
    "    print(f\"Ocurrió un error inesperado al leer: {e}\")"
   ]
  }
 ],
 "metadata": {
  "kernelspec": {
   "display_name": "venv",
   "language": "python",
   "name": "python3"
  },
  "language_info": {
   "codemirror_mode": {
    "name": "ipython",
    "version": 3
   },
   "file_extension": ".py",
   "mimetype": "text/x-python",
   "name": "python",
   "nbconvert_exporter": "python",
   "pygments_lexer": "ipython3",
   "version": "3.13.1"
  }
 },
 "nbformat": 4,
 "nbformat_minor": 5
}
