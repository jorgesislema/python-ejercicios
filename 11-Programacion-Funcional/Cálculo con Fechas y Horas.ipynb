{
 "cells": [
  {
   "cell_type": "code",
   "execution_count": 3,
   "id": "f209d724",
   "metadata": {},
   "outputs": [
    {
     "name": "stdout",
     "output_type": "stream",
     "text": [
      "Fecha y hora actual: 2025-04-18 20:37:43\n",
      "Fecha de hoy: 2025-04-18\n",
      "--------------------\n",
      "\n",
      "Tu fecha de nacimiento: 2021-01-01\n",
      "Tienes aproximadamente 4 años.\n",
      "Han pasado 1568 días desde que naciste.\n",
      "Edad más detallada: 4 años completos.\n",
      "--------------------\n",
      "Faltan 258 días para el próximo Año Nuevo (2026).\n"
     ]
    }
   ],
   "source": [
    "\"\"\" \n",
    " Escribe un programa que:\n",
    "\n",
    "    Obtenga la fecha y hora actual.\n",
    "    Pida al usuario que ingrese su fecha de nacimiento (en formato YYYY-MM-DD).\n",
    "    Calcule y muestre la edad del usuario en años, meses y días (de forma aproximada).\n",
    "    Calcule y muestre cuántos días faltan para el próximo Año Nuevo.\n",
    "\"\"\"\n",
    "\n",
    "from datetime import datetime, date, timedelta\n",
    "\n",
    "# 1. Obtener fecha y hora actual\n",
    "ahora = datetime.now()\n",
    "hoy = date.today()\n",
    "print(f\"Fecha y hora actual: {ahora.strftime('%Y-%m-%d %H:%M:%S')}\")\n",
    "print(f\"Fecha de hoy: {hoy.strftime('%Y-%m-%d')}\")\n",
    "print(\"-\" * 20)\n",
    "\n",
    "# 2. Pedir fecha de nacimiento\n",
    "fecha_nac_str = input(\"Introduce tu fecha de nacimiento (YYYY-MM-DD): \")\n",
    "\n",
    "try:\n",
    "    # Convertir string a objeto date\n",
    "    fecha_nac = datetime.strptime(fecha_nac_str, '%Y-%m-%d').date()\n",
    "\n",
    "    # 3. Calcular edad (aproximada)\n",
    "    # Forma simple: diferencia total de días / 365.25\n",
    "    diferencia_total = hoy - fecha_nac\n",
    "    edad_anios_aprox = diferencia_total.days / 365.25\n",
    "\n",
    "    # Forma más detallada (considerando meses y días)\n",
    "    anios = hoy.year - fecha_nac.year - ((hoy.month, hoy.day) < (fecha_nac.month, fecha_nac.day))\n",
    "    # El cálculo exacto de meses/días restantes es más complejo,\n",
    "    # aquí mostramos una aproximación basada en años y días totales.\n",
    "    print(f\"\\nTu fecha de nacimiento: {fecha_nac.strftime('%Y-%m-%d')}\")\n",
    "    print(f\"Tienes aproximadamente {int(edad_anios_aprox)} años.\")\n",
    "    print(f\"Han pasado {diferencia_total.days} días desde que naciste.\")\n",
    "    print(f\"Edad más detallada: {anios} años completos.\") # Edad en años cumplidos\n",
    "\n",
    "    # 4. Días hasta Año Nuevo\n",
    "    anio_actual = hoy.year\n",
    "    proximo_anio_nuevo = date(anio_actual + 1, 1, 1)\n",
    "    dias_para_anio_nuevo = (proximo_anio_nuevo - hoy).days\n",
    "\n",
    "    print(\"-\" * 20)\n",
    "    print(f\"Faltan {dias_para_anio_nuevo} días para el próximo Año Nuevo ({proximo_anio_nuevo.year}).\")\n",
    "\n",
    "except ValueError:\n",
    "    print(\"Error: Formato de fecha inválido. Debe ser YYYY-MM-DD.\")\n",
    "except Exception as e:\n",
    "    print(f\"Ocurrió un error: {e}\")"
   ]
  }
 ],
 "metadata": {
  "kernelspec": {
   "display_name": "venv",
   "language": "python",
   "name": "python3"
  },
  "language_info": {
   "codemirror_mode": {
    "name": "ipython",
    "version": 3
   },
   "file_extension": ".py",
   "mimetype": "text/x-python",
   "name": "python",
   "nbconvert_exporter": "python",
   "pygments_lexer": "ipython3",
   "version": "3.13.1"
  }
 },
 "nbformat": 4,
 "nbformat_minor": 5
}
