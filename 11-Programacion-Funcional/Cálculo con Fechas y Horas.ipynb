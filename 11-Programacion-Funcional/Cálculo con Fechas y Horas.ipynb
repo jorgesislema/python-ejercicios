{
 "cells": [
  {
   "cell_type": "code",
   "execution_count": null,
   "id": "f209d724",
   "metadata": {},
   "outputs": [],
   "source": [
    "\"\"\" \n",
    "\n",
    "\"\"\""
   ]
  }
 ],
 "metadata": {
  "language_info": {
   "name": "python"
  }
 },
 "nbformat": 4,
 "nbformat_minor": 5
}
