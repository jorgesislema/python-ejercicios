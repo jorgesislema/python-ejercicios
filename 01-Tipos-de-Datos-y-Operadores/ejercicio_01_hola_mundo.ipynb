{
 "cells": [
  {
   "cell_type": "markdown",
   "metadata": {},
   "source": [
    "1. Hola Mundo, pero con Estilo\n",
    "\n",
    "    Descripción: Escribe un programa que imprima un mensaje de bienvenida, pero que sea creativo y contenga algún elemento “extra”.\n",
    "\n",
    "    Instrucciones:\n",
    "\n",
    "        Pide al usuario que ingrese su nombre.\n",
    "\n",
    "        Imprime un saludo que incluya emojis o un pequeño diseño ASCII de tu preferencia.\n",
    "    Objetivos:\n",
    "\n",
    "    Practicar la impresión de texto en Python.\n",
    "\n",
    "    Experimentar con cadenas y caracteres especiales."
   ]
  },
  {
   "cell_type": "markdown",
   "metadata": {},
   "source": [
    "RESPUESTA 1"
   ]
  },
  {
   "cell_type": "code",
   "execution_count": 1,
   "metadata": {},
   "outputs": [
    {
     "name": "stdout",
     "output_type": "stream",
     "text": [
      "\n",
      "¡Hola, jorge! 👋\n",
      "┏━┫Bienvenido a Python┣━┓\n",
      "  ✨ Que tengas un día genial ✨\n",
      "┗━━━━━━━━━━━━━━━━━┛\n",
      "    \n"
     ]
    }
   ],
   "source": [
    "def saludo_con_estilo():\n",
    "    \"\"\"\n",
    "    Imprime un saludo personalizado con estilo, incluyendo el nombre del usuario y elementos decorativos.\n",
    "    \"\"\"\n",
    "    nombre = input(\"¡Hola! ¿Cómo te llamas? \")\n",
    "\n",
    "    # Emojis y arte ASCII para un saludo más vistoso\n",
    "    saludo = f\"\"\"\n",
    "¡Hola, {nombre}! 👋\n",
    "┏━┫Bienvenido a Python┣━┓\n",
    "  ✨ Que tengas un día genial ✨\n",
    "┗━━━━━━━━━━━━━━━━━┛\n",
    "    \"\"\"\n",
    "    print(saludo)\n",
    "\n",
    "if __name__ == \"__main__\":\n",
    "    saludo_con_estilo()\n"
   ]
  },
  {
   "cell_type": "markdown",
   "metadata": {},
   "source": [
    "RESPUESTA2"
   ]
  },
  {
   "cell_type": "code",
   "execution_count": 7,
   "metadata": {},
   "outputs": [
    {
     "name": "stdout",
     "output_type": "stream",
     "text": [
      "\n",
      "*******************************************\n",
      "*     BIENVENIDO A PYTHON                 *\n",
      "*     HOLA JORGE  :)                   *\n",
      "*******************************************\n",
      "\n"
     ]
    }
   ],
   "source": [
    "def saludo_con_estilo():\n",
    "    \"\"\"\n",
    "    Imprime un saludo personalizado con estilo, incluyendo el nombre del usuario y elementos decorativos.\n",
    "    \"\"\"\n",
    "    nombre = input(\"¡Hola! ¿Cual es tu nombre? \")\n",
    "\n",
    "    # Emojis y arte ASCII para un saludo más vistoso\n",
    "    saludo = f\"\"\"\n",
    "*******************************************\n",
    "*     BIENVENIDO A PYTHON                 *\n",
    "*     HOLA {nombre}  :)                   *\n",
    "*******************************************\n",
    "\"\"\"\n",
    "    print(saludo)\n",
    "\n",
    "\n",
    "if __name__ == \"__main__\":\n",
    "    saludo_con_estilo()"
   ]
  }
 ],
 "metadata": {
  "kernelspec": {
   "display_name": "venv",
   "language": "python",
   "name": "python3"
  },
  "language_info": {
   "codemirror_mode": {
    "name": "ipython",
    "version": 3
   },
   "file_extension": ".py",
   "mimetype": "text/x-python",
   "name": "python",
   "nbconvert_exporter": "python",
   "pygments_lexer": "ipython3",
   "version": "3.13.1"
  }
 },
 "nbformat": 4,
 "nbformat_minor": 2
}
