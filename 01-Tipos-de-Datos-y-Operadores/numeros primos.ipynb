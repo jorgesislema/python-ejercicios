{
 "cells": [
  {
   "cell_type": "code",
   "execution_count": null,
   "id": "922c00ae",
   "metadata": {},
   "outputs": [],
   "source": [
    "#Escribe un programa que verifique si un número es primo.\n",
    "\"\"\"\n",
    "Este código verifica si un número n es primo. \n",
    "Recorre desde el 2 hasta la raíz cuadrada de n para comprobar si el número es divisible por algún otro número.\n",
    "\"\"\"\n",
    "def es_primo(n):\n",
    "    if n <= 1:\n",
    "        return False\n",
    "    for i in range(2, int(n**0.5) + 1):\n",
    "        if n % i == 0:\n",
    "            return False\n",
    "    return True\n",
    "\n",
    "# Ejemplo\n",
    "numero = 7\n",
    "if es_primo(numero):\n",
    "    print(f\"{numero} es un número primo.\")\n",
    "else:\n",
    "    print(f\"{numero} no es un número primo.\")\n"
   ]
  }
 ],
 "metadata": {
  "kernelspec": {
   "display_name": "venv",
   "language": "python",
   "name": "python3"
  },
  "language_info": {
   "name": "python",
   "version": "3.13.1"
  }
 },
 "nbformat": 4,
 "nbformat_minor": 5
}
