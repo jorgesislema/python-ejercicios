{
 "cells": [
  {
   "cell_type": "code",
   "execution_count": null,
   "id": "d51f0fa7",
   "metadata": {},
   "outputs": [],
   "source": [
    "\"\"\" \n",
    "Cálculo de Factorial\n",
    "Pide un número entero no negativo al usuario y calcula su factorial.\n",
    "      El factorial de n (n!) es el producto de todos los enteros positivos menores o iguales a n. (Ej: 5! = 5 * 4 * 3 * 2 * 1 = 120). El factorial de 0 es 1.\n",
    "\"\"\"\n",
    "\n",
    "num_str = input(\"Introduce un número entero no negativo para calcular su factorial: \")\n",
    "num = int(num_str)\n",
    "\n",
    "factorial = 1\n",
    "\n",
    "if num < 0:\n",
    "    print(\"El factorial no está definido para números negativos.\")\n",
    "elif num == 0:\n",
    "    print(\"El factorial de 0 es: 1\")\n",
    "else:\n",
    "    # Calcular el factorial usando un bucle\n",
    "    for i in range(1, num + 1):\n",
    "        factorial *= i # factorial = factorial * i\n",
    "\n",
    "    print(f\"El factorial de {num} es: {factorial}\")"
   ]
  }
 ],
 "metadata": {
  "kernelspec": {
   "display_name": "venv",
   "language": "python",
   "name": "python3"
  },
  "language_info": {
   "codemirror_mode": {
    "name": "ipython",
    "version": 3
   },
   "file_extension": ".py",
   "mimetype": "text/x-python",
   "name": "python",
   "nbconvert_exporter": "python",
   "pygments_lexer": "ipython3",
   "version": "3.13.1"
  }
 },
 "nbformat": 4,
 "nbformat_minor": 5
}
