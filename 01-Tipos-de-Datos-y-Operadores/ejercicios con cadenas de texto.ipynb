{
 "cells": [
  {
   "cell_type": "code",
   "execution_count": null,
   "id": "8f1e6d92",
   "metadata": {},
   "outputs": [],
   "source": [
    "#Escribe un programa que invierta una cadena de texto.\n",
    "\n",
    "\"\"\"\n",
    "Usamos el slicing [::-1] para invertir la cadena. Esto toma toda la cadena pero en orden inverso.\n",
    "\"\"\"\n",
    "\n",
    "def invertir_cadena(cadena):\n",
    "    return cadena[::-1]\n",
    "\n",
    "# Ejemplo\n",
    "texto = \"Python\"\n",
    "resultado = invertir_cadena(texto)\n",
    "print(f\"La cadena invertida de '{texto}' es: {resultado}\")\n"
   ]
  }
 ],
 "metadata": {
  "language_info": {
   "name": "python"
  }
 },
 "nbformat": 4,
 "nbformat_minor": 5
}
