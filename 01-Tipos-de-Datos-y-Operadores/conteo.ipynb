{
 "cells": [
  {
   "cell_type": "code",
   "execution_count": null,
   "id": "39ed49c6",
   "metadata": {},
   "outputs": [],
   "source": [
    "#Cuenta el número de vocales en una cadena de texto.\n",
    "\"\"\"\n",
    "Recorremos la cadena y contamos cuántas veces aparece una vocal, independientemente de si es mayúscula o minúscula.\n",
    "\"\"\"\n",
    "def contar_vocales(cadena):\n",
    "    contador = 0\n",
    "    for letra in cadena:\n",
    "        if letra.lower() in 'aeiou':\n",
    "            contador += 1\n",
    "    return contador\n",
    "\n",
    "# Ejemplo\n",
    "texto = \"Hola Mundo\"\n",
    "resultado = contar_vocales(texto)\n",
    "print(f\"El número de vocales en '{texto}' es: {resultado}\")\n"
   ]
  },
  {
   "cell_type": "code",
   "execution_count": 1,
   "id": "5e285d10",
   "metadata": {},
   "outputs": [
    {
     "name": "stdout",
     "output_type": "stream",
     "text": [
      "Las 10 palabras más comunes en 'texto_ejemplo.txt':\n",
      "- 'texto': 4 veces\n",
      "- 'de': 3 veces\n",
      "- 'ejemplo': 3 veces\n",
      "- 'el': 3 veces\n",
      "- 'contador': 3 veces\n",
      "- 'para': 2 veces\n",
      "- 'palabras': 2 veces\n",
      "- 'este': 1 veces\n",
      "- 'es': 1 veces\n",
      "- 'un': 1 veces\n"
     ]
    }
   ],
   "source": [
    "\"\"\" \n",
    "Escribe un programa que lea un archivo de texto (.txt), cuente la frecuencia de cada palabra \n",
    "(ignorando mayúsculas/minúsculas y signos de puntuación básicos como comas y puntos), \n",
    "y muestre las 10 palabras más comunes con sus conteos\n",
    "\"\"\"\n",
    "import string # Para ayudar a quitar puntuación\n",
    "\n",
    "\"\"\"Conviertimos a minúsculas y quita puntuación básica.\"\"\"\n",
    "\n",
    "def limpiar_palabra(palabra):\n",
    "    palabra = palabra.lower()\n",
    "    # Quita puntuación de los extremos (,.!?)\n",
    "    tabla_puntuacion = str.maketrans('', '', string.punctuation)\n",
    "    palabra_limpia = palabra.translate(tabla_puntuacion)\n",
    "    return palabra_limpia\n",
    "\n",
    "\"\"\"Lee un archivo y cuenta la frecuencia de palabras.\"\"\"\n",
    "def contar_frecuencia_palabras(nombre_archivo):\n",
    "    \n",
    "    frecuencias = {}\n",
    "    try:\n",
    "        with open(nombre_archivo, 'r', encoding='utf-8') as f:\n",
    "            for linea in f:\n",
    "                palabras = linea.split() # Divide la línea en palabras\n",
    "                for palabra in palabras:\n",
    "                    palabra_limpia = limpiar_palabra(palabra)\n",
    "                    if palabra_limpia: # Ignora palabras vacías después de limpiar\n",
    "                        frecuencias[palabra_limpia] = frecuencias.get(palabra_limpia, 0) + 1\n",
    "    except FileNotFoundError:\n",
    "        print(f\"Error: El archivo '{nombre_archivo}' no fue encontrado.\")\n",
    "        return None\n",
    "    except Exception as e:\n",
    "        print(f\"Ocurrió un error al leer el archivo: {e}\")\n",
    "        return None\n",
    "\n",
    "    return frecuencias\n",
    "\n",
    "# Nombre del archivo a procesar\n",
    "archivo = 'texto_ejemplo.txt'\n",
    "conteo_palabras = contar_frecuencia_palabras(archivo)\n",
    "\n",
    "if conteo_palabras:\n",
    "    # Ordenar las palabras por frecuencia (de mayor a menor)\n",
    "    # Usamos sorted con una función lambda para indicar que ordene por el valor (conteo)\n",
    "    palabras_ordenadas = sorted(conteo_palabras.items(), key=lambda item: item[1], reverse=True)\n",
    "\n",
    "    print(f\"Las 10 palabras más comunes en '{archivo}':\")\n",
    "    # Mostrar las 10 primeras (o menos si no hay tantas)\n",
    "    for palabra, conteo in palabras_ordenadas[:10]:\n",
    "        print(f\"- '{palabra}': {conteo} veces\")\n"
   ]
  },
  {
   "cell_type": "code",
   "execution_count": 1,
   "id": "b8ac9efe",
   "metadata": {},
   "outputs": [
    {
     "name": "stdout",
     "output_type": "stream",
     "text": [
      "Contando del 1 al 10:\n",
      "1\n",
      "2\n",
      "3\n",
      "4\n",
      "5\n",
      "6\n",
      "7\n",
      "8\n",
      "9\n",
      "10\n"
     ]
    }
   ],
   "source": [
    "#Enunciado: Imprime los números del 1 al 10.\n",
    "print(\"Contando del 1 al 10:\")\n",
    "# Usar un bucle for con range\n",
    "# range(1, 11) genera números desde 1 hasta 10 (el 11 no se incluye)\n",
    "for i in range(1, 11):\n",
    "    print(i)"
   ]
  },
  {
   "cell_type": "code",
   "execution_count": 3,
   "id": "42c1e3b6",
   "metadata": {},
   "outputs": [
    {
     "name": "stdout",
     "output_type": "stream",
     "text": [
      "Introduce números para sumar (introduce 0 para terminar):\n",
      "La suma total de los números ingresados es: 0\n"
     ]
    }
   ],
   "source": [
    "\"\"\"Pide números al usuario hasta que ingrese 0. Muestra la suma total de los números ingresados\n",
    " (excluyendo el 0)\"\"\"\n",
    "\n",
    "suma_total = 0\n",
    "print(\"Introduce números para sumar (introduce 0 para terminar):\")\n",
    "\n",
    "while True: # Bucle infinito hasta que se rompa explícitamente\n",
    "    num_str = input(\"Número: \")\n",
    "    num = int(num_str)\n",
    "\n",
    "    if num == 0:\n",
    "        break # Sale del bucle si el número es 0\n",
    "    else:\n",
    "        suma_total += num # Acumula la suma\n",
    "\n",
    "print(f\"La suma total de los números ingresados es: {suma_total}\")"
   ]
  },
  {
   "cell_type": "code",
   "execution_count": 4,
   "id": "cd2a3a31",
   "metadata": {},
   "outputs": [
    {
     "name": "stdout",
     "output_type": "stream",
     "text": [
      "La frase 'oso' tiene 2 vocales.\n"
     ]
    }
   ],
   "source": [
    "\"\"\"\n",
    " Contar Vocales\n",
    "\n",
    "    Enunciado: Pide una frase al usuario y cuenta cuántas vocales (a, e, i, o, u,\n",
    "      sin importar mayúsculas o minúsculas) contiene.\n",
    "\"\"\"\n",
    "frase = input(\"Introduce una frase: \")\n",
    "# Convertir la frase a minúsculas para comparar fácilmente\n",
    "frase_minusculas = frase.lower()\n",
    "\n",
    "contador_vocales = 0\n",
    "vocales = \"aeiou\"\n",
    "\n",
    "# Recorrer cada letra de la frase\n",
    "for letra in frase_minusculas:\n",
    "    # Si la letra está en la cadena de vocales\n",
    "    if letra in vocales:\n",
    "        contador_vocales += 1\n",
    "\n",
    "print(f\"La frase '{frase}' tiene {contador_vocales} vocales.\")"
   ]
  }
 ],
 "metadata": {
  "kernelspec": {
   "display_name": "venv",
   "language": "python",
   "name": "python3"
  },
  "language_info": {
   "codemirror_mode": {
    "name": "ipython",
    "version": 3
   },
   "file_extension": ".py",
   "mimetype": "text/x-python",
   "name": "python",
   "nbconvert_exporter": "python",
   "pygments_lexer": "ipython3",
   "version": "3.13.1"
  }
 },
 "nbformat": 4,
 "nbformat_minor": 5
}
