{
 "cells": [
  {
   "cell_type": "code",
   "execution_count": null,
   "id": "39ed49c6",
   "metadata": {},
   "outputs": [],
   "source": [
    "#Cuenta el número de vocales en una cadena de texto.\n",
    "\"\"\"\n",
    "Recorremos la cadena y contamos cuántas veces aparece una vocal, independientemente de si es mayúscula o minúscula.\n",
    "\"\"\"\n",
    "def contar_vocales(cadena):\n",
    "    contador = 0\n",
    "    for letra in cadena:\n",
    "        if letra.lower() in 'aeiou':\n",
    "            contador += 1\n",
    "    return contador\n",
    "\n",
    "# Ejemplo\n",
    "texto = \"Hola Mundo\"\n",
    "resultado = contar_vocales(texto)\n",
    "print(f\"El número de vocales en '{texto}' es: {resultado}\")\n"
   ]
  }
 ],
 "metadata": {
  "language_info": {
   "name": "python"
  }
 },
 "nbformat": 4,
 "nbformat_minor": 5
}
