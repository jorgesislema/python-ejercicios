{
 "cells": [
  {
   "cell_type": "code",
   "execution_count": 1,
   "id": "f3d27be1",
   "metadata": {},
   "outputs": [
    {
     "name": "stdout",
     "output_type": "stream",
     "text": [
      "Los primeros 11 términos de Fibonacci (calculados recursivamente):\n",
      "F(0) = 0\n",
      "F(1) = 1\n",
      "F(2) = 1\n",
      "F(3) = 2\n",
      "F(4) = 3\n",
      "F(5) = 5\n",
      "F(6) = 8\n",
      "F(7) = 13\n",
      "F(8) = 21\n",
      "F(9) = 34\n",
      "F(10) = 55\n"
     ]
    }
   ],
   "source": [
    "\"\"\" \n",
    "Implementa una función recursiva para calcular el n-ésimo número de la secuencia de Fibonacci (0, 1, 1, 2, 3, 5, 8...).\n",
    "\"\"\"\n",
    "\n",
    "def fibonacci_recursivo(n):\n",
    "    \"\"\"Calcula el n-ésimo número de Fibonacci de forma recursiva.\"\"\"\n",
    "    # Casos base\n",
    "    if n <= 0:\n",
    "        return 0\n",
    "    elif n == 1:\n",
    "        return 1\n",
    "    # Paso recursivo\n",
    "    else:\n",
    "        return fibonacci_recursivo(n-1) + fibonacci_recursivo(n-2)\n",
    "\n",
    "# Probar la función\n",
    "numero_termino = 10\n",
    "print(f\"Los primeros {numero_termino + 1} términos de Fibonacci (calculados recursivamente):\")\n",
    "for i in range(numero_termino + 1):\n",
    "    print(f\"F({i}) = {fibonacci_recursivo(i)}\")\n",
    "\n",
    "# Nota: Esta implementación recursiva es conceptualmente simple pero muy ineficiente\n",
    "# para valores grandes de 'n' debido a cálculos repetidos.\n",
    "# Una versión iterativa o con memoización (caché) es mucho más rápida."
   ]
  }
 ],
 "metadata": {
  "kernelspec": {
   "display_name": "venv",
   "language": "python",
   "name": "python3"
  },
  "language_info": {
   "codemirror_mode": {
    "name": "ipython",
    "version": 3
   },
   "file_extension": ".py",
   "mimetype": "text/x-python",
   "name": "python",
   "nbconvert_exporter": "python",
   "pygments_lexer": "ipython3",
   "version": "3.13.1"
  }
 },
 "nbformat": 4,
 "nbformat_minor": 5
}
