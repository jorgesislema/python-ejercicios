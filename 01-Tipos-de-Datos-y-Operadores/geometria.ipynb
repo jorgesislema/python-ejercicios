{
 "cells": [
  {
   "cell_type": "code",
   "execution_count": 1,
   "id": "f4993986",
   "metadata": {},
   "outputs": [
    {
     "name": "stdout",
     "output_type": "stream",
     "text": [
      "La base es 5 y la altura es 8.\n",
      "El área del rectángulo es: 40\n"
     ]
    }
   ],
   "source": [
    "\"\"\" \n",
    "Área de un Rectángulo (Función)\n",
    "\n",
    " Crea una función que reciba la base y la altura de un rectángulo y devuelva su área.\n",
    "Luego, usa la función para calcular el área con valores dados.\n",
    "\"\"\"\n",
    "\n",
    "# Definir la función\n",
    "def calcular_area_rectangulo(base, altura):\n",
    "    \"\"\"Calcula el área de un rectángulo.\"\"\"\n",
    "    area = base * altura\n",
    "    return area\n",
    "\n",
    "# Valores de ejemplo\n",
    "base_rect = 5\n",
    "altura_rect = 8\n",
    "\n",
    "# Llamar a la función y guardar el resultado\n",
    "area_calculada = calcular_area_rectangulo(base_rect, altura_rect)\n",
    "\n",
    "print(f\"La base es {base_rect} y la altura es {altura_rect}.\")\n",
    "print(f\"El área del rectángulo es: {area_calculada}\")"
   ]
  }
 ],
 "metadata": {
  "kernelspec": {
   "display_name": "venv",
   "language": "python",
   "name": "python3"
  },
  "language_info": {
   "codemirror_mode": {
    "name": "ipython",
    "version": 3
   },
   "file_extension": ".py",
   "mimetype": "text/x-python",
   "name": "python",
   "nbconvert_exporter": "python",
   "pygments_lexer": "ipython3",
   "version": "3.13.1"
  }
 },
 "nbformat": 4,
 "nbformat_minor": 5
}
