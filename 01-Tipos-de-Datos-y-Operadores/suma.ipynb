{
 "cells": [
  {
   "cell_type": "code",
   "execution_count": null,
   "id": "a795e8cc",
   "metadata": {},
   "outputs": [],
   "source": [
    "#Dada una lista de números, suma todos los elementos de la lista.\n",
    "def suma_lista(lista):\n",
    "    return sum(lista)\n",
    "\n",
    "# Ejemplo\n",
    "numeros = [1, 2, 3, 4, 5]\n",
    "resultado = suma_lista(numeros)\n",
    "print(f\"La suma de los números es: {resultado}\")\n"
   ]
  },
  {
   "cell_type": "code",
   "execution_count": null,
   "id": "7d49ae30",
   "metadata": {},
   "outputs": [
    {
     "name": "stdout",
     "output_type": "stream",
     "text": [
      "La suma de los dos numeros es: 38.35\n"
     ]
    }
   ],
   "source": [
    "# Escribe un programa en Python que le pida al usuario que ingrese dos números . Luego, el programa debe calcular la suma de estos dos números e imprimir el resultado.\n",
    "num_1 = float(input(\"Ingresa el primer numero: \"))\n",
    "num_2 = float(input(\"Ingresa el segundo numero: \"))\n",
    "\n",
    "def suma(num_1, num_2):\n",
    "    return num_1 + num_2\n",
    "print(f\"La suma de los dos numeros es: {suma(num_1, num_2)}\")\n",
    "\n"
   ]
  },
  {
   "cell_type": "code",
   "execution_count": null,
   "id": "9a5768a5",
   "metadata": {},
   "outputs": [],
   "source": []
  }
 ],
 "metadata": {
  "kernelspec": {
   "display_name": "venv",
   "language": "python",
   "name": "python3"
  },
  "language_info": {
   "codemirror_mode": {
    "name": "ipython",
    "version": 3
   },
   "file_extension": ".py",
   "mimetype": "text/x-python",
   "name": "python",
   "nbconvert_exporter": "python",
   "pygments_lexer": "ipython3",
   "version": "3.13.1"
  }
 },
 "nbformat": 4,
 "nbformat_minor": 5
}
