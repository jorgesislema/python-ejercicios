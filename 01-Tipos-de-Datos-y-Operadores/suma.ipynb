{
 "cells": [
  {
   "cell_type": "code",
   "execution_count": null,
   "id": "a795e8cc",
   "metadata": {},
   "outputs": [],
   "source": [
    "def suma_lista(lista):\n",
    "    return sum(lista)\n",
    "\n",
    "# Ejemplo\n",
    "numeros = [1, 2, 3, 4, 5]\n",
    "resultado = suma_lista(numeros)\n",
    "print(f\"La suma de los números es: {resultado}\")\n"
   ]
  }
 ],
 "metadata": {
  "language_info": {
   "name": "python"
  }
 },
 "nbformat": 4,
 "nbformat_minor": 5
}
