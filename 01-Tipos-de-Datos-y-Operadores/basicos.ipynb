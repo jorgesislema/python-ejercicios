{
 "cells": [
  {
   "cell_type": "code",
   "execution_count": 3,
   "id": "c9a3e4ab",
   "metadata": {},
   "outputs": [
    {
     "name": "stdout",
     "output_type": "stream",
     "text": [
      "El número es par\n"
     ]
    }
   ],
   "source": [
    "#Escribe un programa que pida al usuario un número entero y determine si es par o impar.\n",
    "num = int(input(\"Ingrese un número entero: \"))\n",
    "def número_entero(num):\n",
    "    if num % 2==0 :\n",
    "        print(\"El número es par\")\n",
    "    else:\n",
    "        print(\"El número es impar\")\n",
    "número_entero(num)\n",
    "\n"
   ]
  },
  {
   "cell_type": "code",
   "execution_count": 1,
   "id": "30339d42",
   "metadata": {},
   "outputs": [
    {
     "name": "stdout",
     "output_type": "stream",
     "text": [
      "La lista es: [4, 12, 5, 28, 9, 15, 3]\n",
      "El número máximo en la lista es: 28\n"
     ]
    }
   ],
   "source": [
    "\"\"\"\"\n",
    "Encontrar el Máximo en una Lista\n",
    "\n",
    " Dada una lista de números, encuentra el número más grande sin usar la función max() incorporada.\n",
    "\n",
    "\"\"\"\n",
    "numeros = [4, 12, 5, 28, 9, 15, 3]\n",
    "maximo_actual = numeros[0] # Asumir que el primero es el máximo inicialmente\n",
    "\n",
    "# Recorrer la lista a partir del segundo elemento\n",
    "for numero in numeros[1:]:\n",
    "    if numero > maximo_actual:\n",
    "        maximo_actual = numero # Actualizar el máximo si encontramos uno mayor\n",
    "\n",
    "print(f\"La lista es: {numeros}\")\n",
    "print(f\"El número máximo en la lista es: {maximo_actual}\")"
   ]
  }
 ],
 "metadata": {
  "kernelspec": {
   "display_name": "venv",
   "language": "python",
   "name": "python3"
  },
  "language_info": {
   "codemirror_mode": {
    "name": "ipython",
    "version": 3
   },
   "file_extension": ".py",
   "mimetype": "text/x-python",
   "name": "python",
   "nbconvert_exporter": "python",
   "pygments_lexer": "ipython3",
   "version": "3.13.1"
  }
 },
 "nbformat": 4,
 "nbformat_minor": 5
}
