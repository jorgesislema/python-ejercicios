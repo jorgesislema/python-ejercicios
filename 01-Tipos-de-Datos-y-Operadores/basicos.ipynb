{
 "cells": [
  {
   "cell_type": "code",
   "execution_count": 3,
   "id": "c9a3e4ab",
   "metadata": {},
   "outputs": [
    {
     "name": "stdout",
     "output_type": "stream",
     "text": [
      "El número es par\n"
     ]
    }
   ],
   "source": [
    "#Escribe un programa que pida al usuario un número entero y determine si es par o impar.\n",
    "num = int(input(\"Ingrese un número entero: \"))\n",
    "def número_entero(num):\n",
    "    if num % 2==0 :\n",
    "        print(\"El número es par\")\n",
    "    else:\n",
    "        print(\"El número es impar\")\n",
    "número_entero(num)\n",
    "\n"
   ]
  }
 ],
 "metadata": {
  "kernelspec": {
   "display_name": "venv",
   "language": "python",
   "name": "python3"
  },
  "language_info": {
   "codemirror_mode": {
    "name": "ipython",
    "version": 3
   },
   "file_extension": ".py",
   "mimetype": "text/x-python",
   "name": "python",
   "nbconvert_exporter": "python",
   "pygments_lexer": "ipython3",
   "version": "3.13.1"
  }
 },
 "nbformat": 4,
 "nbformat_minor": 5
}
