{
 "cells": [
  {
   "cell_type": "code",
   "execution_count": 1,
   "id": "87cc857f",
   "metadata": {},
   "outputs": [
    {
     "name": "stdout",
     "output_type": "stream",
     "text": [
      "Tu edad es: 6\n",
      "Cantidad ingresada: 23\n"
     ]
    }
   ],
   "source": [
    "\"\"\" \n",
    "Crea una función obtener_entero_seguro que pida al usuario un número entero\n",
    " y siga pidiéndolo hasta que ingrese un valor válido. Debe manejar la excepción \n",
    " ValueError si el usuario introduce algo que no es un entero.\n",
    "\"\"\"\n",
    "\n",
    "def obtener_entero_seguro(mensaje=\"Introduce un número entero: \"):\n",
    "    \"\"\"Pide un entero al usuario hasta que la entrada sea válida.\"\"\"\n",
    "    while True:\n",
    "        try:\n",
    "            entrada = input(mensaje)\n",
    "            entero = int(entrada)\n",
    "            return entero # Devuelve el entero si la conversión fue exitosa\n",
    "        except ValueError:\n",
    "            print(\"Error: Entrada inválida. Debes ingresar un número entero.\")\n",
    "        # El bucle continúa si hubo una excepción\n",
    "\n",
    "# Usar la función\n",
    "edad = obtener_entero_seguro(\"Introduce tu edad (como número entero): \")\n",
    "print(f\"Tu edad es: {edad}\")\n",
    "\n",
    "cantidad = obtener_entero_seguro(\"Introduce la cantidad de productos: \")\n",
    "print(f\"Cantidad ingresada: {cantidad}\")"
   ]
  }
 ],
 "metadata": {
  "kernelspec": {
   "display_name": "venv",
   "language": "python",
   "name": "python3"
  },
  "language_info": {
   "codemirror_mode": {
    "name": "ipython",
    "version": 3
   },
   "file_extension": ".py",
   "mimetype": "text/x-python",
   "name": "python",
   "nbconvert_exporter": "python",
   "pygments_lexer": "ipython3",
   "version": "3.13.1"
  }
 },
 "nbformat": 4,
 "nbformat_minor": 5
}
