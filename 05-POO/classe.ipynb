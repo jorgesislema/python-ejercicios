{
 "cells": [
  {
   "cell_type": "code",
   "execution_count": 1,
   "id": "fb55d897",
   "metadata": {},
   "outputs": [
    {
     "name": "stdout",
     "output_type": "stream",
     "text": [
      "Círculo de radio 5\n",
      "Área: 78.54\n",
      "Perímetro: 31.42\n",
      "----------\n",
      "Círculo de radio 10.5\n",
      "Área: 346.36\n",
      "Perímetro: 65.97\n"
     ]
    }
   ],
   "source": [
    "\"\"\" \n",
    "Define una clase Circulo que se inicialice con un radio. La clase debe tener métodos para calcular el área\n",
    " y el perímetro (circunferencia).\n",
    "\"\"\"\n",
    "\n",
    "import math # Necesitamos pi\n",
    "\n",
    "class Circulo:\n",
    "    def __init__(self, radio):\n",
    "        \"\"\"Inicializador de la clase Circulo.\"\"\"\n",
    "        if radio < 0:\n",
    "            raise ValueError(\"El radio no puede ser negativo\")\n",
    "        self.radio = radio\n",
    "\n",
    "    def calcular_area(self):\n",
    "        \"\"\"Calcula el área del círculo.\"\"\"\n",
    "        return math.pi * (self.radio ** 2)\n",
    "\n",
    "    def calcular_perimetro(self):\n",
    "        \"\"\"Calcula el perímetro (circunferencia) del círculo.\"\"\"\n",
    "        return 2 * math.pi * self.radio\n",
    "\n",
    "    def __str__(self):\n",
    "        \"\"\"Representación en string del objeto.\"\"\"\n",
    "        return f\"Círculo de radio {self.radio}\"\n",
    "\n",
    "# Crear instancias (objetos) de la clase\n",
    "try:\n",
    "    c1 = Circulo(5)\n",
    "    c2 = Circulo(10.5)\n",
    "\n",
    "    # Usar los métodos\n",
    "    print(c1) # Usa el método __str__\n",
    "    print(f\"Área: {c1.calcular_area():.2f}\") # .2f formatea a 2 decimales\n",
    "    print(f\"Perímetro: {c1.calcular_perimetro():.2f}\")\n",
    "    print(\"-\" * 10)\n",
    "    print(c2)\n",
    "    print(f\"Área: {c2.calcular_area():.2f}\")\n",
    "    print(f\"Perímetro: {c2.calcular_perimetro():.2f}\")\n",
    "\n",
    "    # Ejemplo de error\n",
    "    # c3 = Circulo(-2)\n",
    "\n",
    "except ValueError as e:\n",
    "    print(f\"Error al crear círculo: {e}\")"
   ]
  }
 ],
 "metadata": {
  "kernelspec": {
   "display_name": "venv",
   "language": "python",
   "name": "python3"
  },
  "language_info": {
   "codemirror_mode": {
    "name": "ipython",
    "version": 3
   },
   "file_extension": ".py",
   "mimetype": "text/x-python",
   "name": "python",
   "nbconvert_exporter": "python",
   "pygments_lexer": "ipython3",
   "version": "3.13.1"
  }
 },
 "nbformat": 4,
 "nbformat_minor": 5
}
