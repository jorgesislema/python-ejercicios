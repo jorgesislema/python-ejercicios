{
 "cells": [
  {
   "cell_type": "code",
   "execution_count": 1,
   "id": "72fff2a2",
   "metadata": {},
   "outputs": [
    {
     "name": "stdout",
     "output_type": "stream",
     "text": [
      "Lista original: [1, 2, 3, 4, 5, 6, 7, 8, 9, 10]\n",
      "Cuadrados de los números pares: [4, 16, 36, 64, 100]\n"
     ]
    }
   ],
   "source": [
    "\"\"\" \n",
    "Dada una lista de números, crea una nueva lista que contenga únicamente el cuadrado de los números \n",
    "pares de la lista original, usando list comprehension\n",
    "\"\"\"\n",
    "\n",
    "numeros = [1, 2, 3, 4, 5, 6, 7, 8, 9, 10]\n",
    "\n",
    "# Usando list comprehension:\n",
    "# [expresion for item in iterable if condicion]\n",
    "cuadrados_pares = [num**2 for num in numeros if num % 2 == 0]\n",
    "\n",
    "print(f\"Lista original: {numeros}\")\n",
    "print(f\"Cuadrados de los números pares: {cuadrados_pares}\")"
   ]
  },
  {
   "cell_type": "code",
   "execution_count": 2,
   "id": "df4454f7",
   "metadata": {},
   "outputs": [
    {
     "name": "stdout",
     "output_type": "stream",
     "text": [
      "Lista 1: [1, 2, 3, 4, 5, 'a', 'b']\n",
      "Lista 2: [4, 5, 6, 7, 'b', 'c']\n",
      "--------------------\n",
      "Elementos comunes: [5, 'b', 4]\n",
      "Elementos únicos en Lista 1: [1, 2, 3, 'a']\n",
      "Elementos únicos en Lista 2: ['c', 6, 7]\n",
      "Todos los elementos únicos (total): [1, 2, 3, 6, 7, 'a', 'c']\n"
     ]
    }
   ],
   "source": [
    "\"\"\" \n",
    "Dadas dos listas, encuentra los elementos que son comunes a ambas listas y los elementos que son únicos\n",
    " para cada lista. Utiliza sets para mayor eficiencia.\n",
    "\"\"\"\n",
    "\n",
    "lista1 = [1, 2, 3, 4, 5, 'a', 'b']\n",
    "lista2 = [4, 5, 6, 7, 'b', 'c']\n",
    "\n",
    "# Convertir listas a sets para operaciones eficientes\n",
    "set1 = set(lista1)\n",
    "set2 = set(lista2)\n",
    "\n",
    "# Elementos comunes (intersección)\n",
    "comunes = set1.intersection(set2) # o set1 & set2\n",
    "\n",
    "# Elementos únicos en lista1 (diferencia)\n",
    "unicos_lista1 = set1.difference(set2) # o set1 - set2\n",
    "\n",
    "# Elementos únicos en lista2 (diferencia)\n",
    "unicos_lista2 = set2.difference(set1) # o set2 - set1\n",
    "\n",
    "# Todos los elementos únicos combinados (diferencia simétrica)\n",
    "unicos_total = set1.symmetric_difference(set2) # o set1 ^ set2\n",
    "\n",
    "print(f\"Lista 1: {lista1}\")\n",
    "print(f\"Lista 2: {lista2}\")\n",
    "print(\"-\" * 20)\n",
    "print(f\"Elementos comunes: {list(comunes)}\") # Convertir de nuevo a lista para mostrar\n",
    "print(f\"Elementos únicos en Lista 1: {list(unicos_lista1)}\")\n",
    "print(f\"Elementos únicos en Lista 2: {list(unicos_lista2)}\")\n",
    "print(f\"Todos los elementos únicos (total): {list(unicos_total)}\")"
   ]
  }
 ],
 "metadata": {
  "kernelspec": {
   "display_name": "venv",
   "language": "python",
   "name": "python3"
  },
  "language_info": {
   "codemirror_mode": {
    "name": "ipython",
    "version": 3
   },
   "file_extension": ".py",
   "mimetype": "text/x-python",
   "name": "python",
   "nbconvert_exporter": "python",
   "pygments_lexer": "ipython3",
   "version": "3.13.1"
  }
 },
 "nbformat": 4,
 "nbformat_minor": 5
}
