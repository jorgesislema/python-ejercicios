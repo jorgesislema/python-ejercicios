{
 "cells": [
  {
   "cell_type": "code",
   "execution_count": 1,
   "id": "72fff2a2",
   "metadata": {},
   "outputs": [
    {
     "name": "stdout",
     "output_type": "stream",
     "text": [
      "Lista original: [1, 2, 3, 4, 5, 6, 7, 8, 9, 10]\n",
      "Cuadrados de los números pares: [4, 16, 36, 64, 100]\n"
     ]
    }
   ],
   "source": [
    "\"\"\" \n",
    "Dada una lista de números, crea una nueva lista que contenga únicamente el cuadrado de los números \n",
    "pares de la lista original, usando list comprehension\n",
    "\"\"\"\n",
    "\n",
    "numeros = [1, 2, 3, 4, 5, 6, 7, 8, 9, 10]\n",
    "\n",
    "# Usando list comprehension:\n",
    "# [expresion for item in iterable if condicion]\n",
    "cuadrados_pares = [num**2 for num in numeros if num % 2 == 0]\n",
    "\n",
    "print(f\"Lista original: {numeros}\")\n",
    "print(f\"Cuadrados de los números pares: {cuadrados_pares}\")"
   ]
  }
 ],
 "metadata": {
  "kernelspec": {
   "display_name": "venv",
   "language": "python",
   "name": "python3"
  },
  "language_info": {
   "codemirror_mode": {
    "name": "ipython",
    "version": 3
   },
   "file_extension": ".py",
   "mimetype": "text/x-python",
   "name": "python",
   "nbconvert_exporter": "python",
   "pygments_lexer": "ipython3",
   "version": "3.13.1"
  }
 },
 "nbformat": 4,
 "nbformat_minor": 5
}
