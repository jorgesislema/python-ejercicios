{
 "cells": [
  {
   "cell_type": "code",
   "execution_count": null,
   "id": "a095206f",
   "metadata": {},
   "outputs": [],
   "source": [
    "#Usamos el slicing [::-1] para invertir la cadena. Esto toma toda la cadena pero en orden inverso.\n",
    "\"\"\"\n",
    "Utilizamos una comprensión de diccionario para generar claves de 1 a 5 y asignar a cada clave su cuadrado como valor.\n",
    "\"\"\"\n",
    "def generar_diccionario():\n",
    "    return {i: i**2 for i in range(1, 6)}\n",
    "\n",
    "# Ejemplo\n",
    "diccionario = generar_diccionario()\n",
    "print(diccionario)\n"
   ]
  }
 ],
 "metadata": {
  "language_info": {
   "name": "python"
  }
 },
 "nbformat": 4,
 "nbformat_minor": 5
}
