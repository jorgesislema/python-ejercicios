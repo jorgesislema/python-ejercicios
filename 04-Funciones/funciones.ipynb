{
 "cells": [
  {
   "cell_type": "code",
   "execution_count": 1,
   "id": "0c6839f9",
   "metadata": {},
   "outputs": [
    {
     "name": "stdout",
     "output_type": "stream",
     "text": [
      "Generando números pares hasta 15:\n",
      "0 2 4 6 8 10 12 14 \n",
      "El generador se ha agotado.\n"
     ]
    }
   ],
   "source": [
    "\"\"\" \n",
    "Crea una función generadora llamada generador_pares(limite) que produzca (utilizando yield) \n",
    "números pares desde 0 hasta limite (sin incluir limite si es impar, o incluyéndolo si es par).\n",
    " Itera sobre el generador para imprimir los números.\n",
    "\"\"\"\n",
    "def generador_pares(limite):\n",
    "    \"\"\"Generador que produce números pares hasta un límite.\"\"\"\n",
    "    numero = 0\n",
    "    while numero <= limite:\n",
    "        if numero % 2 == 0:\n",
    "            yield numero \n",
    "        numero += 1\n",
    "    #\n",
    "\n",
    "# Usamos el generador\n",
    "limite_superior = 15\n",
    "print(f\"Generando números pares hasta {limite_superior}:\")\n",
    "\n",
    "# Los generadores son iterables\n",
    "generador = generador_pares(limite_superior)\n",
    "\n",
    "# Iteramos sobre los valores producidos por el generador\n",
    "for par in generador:\n",
    "    print(par, end=\" \") # Imprime en la misma línea separados por espacio\n",
    "print(\"\\nEl generador se ha agotado.\")\n",
    "\n"
   ]
  }
 ],
 "metadata": {
  "kernelspec": {
   "display_name": "venv",
   "language": "python",
   "name": "python3"
  },
  "language_info": {
   "codemirror_mode": {
    "name": "ipython",
    "version": 3
   },
   "file_extension": ".py",
   "mimetype": "text/x-python",
   "name": "python",
   "nbconvert_exporter": "python",
   "pygments_lexer": "ipython3",
   "version": "3.13.1"
  }
 },
 "nbformat": 4,
 "nbformat_minor": 5
}
